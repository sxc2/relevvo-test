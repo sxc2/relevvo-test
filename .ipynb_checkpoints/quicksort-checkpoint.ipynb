{
 "cells": [
  {
   "cell_type": "markdown",
   "id": "f29c441b",
   "metadata": {},
   "source": [
    "## Quicksort\n"
   ]
  },
  {
   "cell_type": "markdown",
   "id": "779ea62e",
   "metadata": {},
   "source": [
    "### Outline"
   ]
  },
  {
   "cell_type": "markdown",
   "id": "28b34d02",
   "metadata": {},
   "source": [
    "1. <a href='#background'>Quicksort Background</a>\n",
    "2. <a href='#impl'>Implementation</a>\n",
    "3. <a href='#tests'>Unit Tests</a>\n",
    "4. <a href='#disc'>Discussions</a>"
   ]
  },
  {
   "cell_type": "markdown",
   "id": "3b9b21b9",
   "metadata": {},
   "source": [
    "<a id=\"background\"></a>\n",
    "### Quicksort background"
   ]
  },
  {
   "cell_type": "markdown",
   "id": "45d66821",
   "metadata": {},
   "source": [
    "Borrowed from Wikipedia:\n",
    "\n",
    "Quicksort is a type of divide and conquer algorithm for sorting an array, based on a partitioning routine; the details of this partitioning can vary somewhat, so that quicksort is really a family of closely related algorithms. Applied to a range of at least two elements, partitioning produces a division into two consecutive non empty sub-ranges, in such a way that no element of the first sub-range is greater than any element of the second sub-range. After applying this partition, quicksort then recursively sorts the sub-ranges, possibly after excluding from them an element at the point of division that is at this point known to be already in its final location. Due to its recursive nature, quicksort (like the partition routine) has to be formulated so as to be callable for a range within a larger array, even if the ultimate goal is to sort a complete array. The steps for in-place quicksort are:\n",
    "\n",
    "1. If the range has less than two elements, return immediately as there is nothing to do. Possibly for other very short lengths a special-purpose sorting method is applied and the remainder of these steps skipped.\n",
    "2. Otherwise pick a value, called a pivot, that occurs in the range (the precise manner of choosing depends on the partition routine, and can involve randomness).\n",
    "3. Partition the range: reorder its elements, while determining a point of division, so that all elements with values less than the pivot come before the division, while all elements with values greater than the pivot come after it; elements that are equal to the pivot can go either way. Since at least one instance of the pivot is present, most partition routines ensure that the value that ends up at the point of division is equal to the pivot, and is now in its final position (but termination of quicksort does not depend on this, as long as sub-ranges strictly smaller than the original are produced).\n",
    "4. Recursively apply the quicksort to the sub-range up to the point of division and to the sub-range after it, possibly excluding from both ranges the element equal to the pivot at the point of division. (If the partition produces a possibly larger sub-range near the boundary where all elements are known to be equal to the pivot, these can be excluded as well.)\n",
    "\n",
    "The **choice of partition routine (including the pivot selection) can affect the algorithm's performance, possibly to a great extent for specific input arrays.** In discussing the efficiency of quicksort, it is therefore necessary to specify these choices first."
   ]
  },
  {
   "cell_type": "markdown",
   "id": "4fc6e2ce",
   "metadata": {},
   "source": [
    "----"
   ]
  },
  {
   "cell_type": "markdown",
   "id": "ce6837e3",
   "metadata": {},
   "source": [
    "Between the popular Lomuto partition scheme and classic Hoare partition scheme, we chose **Hoare as it's a little more efficient on average**."
   ]
  },
  {
   "cell_type": "markdown",
   "id": "f6f8bf24",
   "metadata": {},
   "source": [
    "Pseudo code (borrowed from Wikipedia)\n",
    "\n",
    "\n",
    "<code>\n",
    "algorithm quicksort(A, lo, hi) is\n",
    "    if lo < hi then\n",
    "        p := partition(A, lo, hi)\n",
    "        quicksort(A, lo, p)\n",
    "        quicksort(A, p + 1, hi)</code>\n",
    "              \n",
    "<code>\n",
    "algorithm partition(A, lo, hi) is\n",
    "    pivot := A[ floor((hi + lo) / 2) ]\n",
    "    i := lo - 1\n",
    "    j := hi + 1\n",
    "    loop forever\n",
    "        do\n",
    "            i := i + 1\n",
    "        while A[i] < pivot\n",
    "        do\n",
    "            j := j - 1\n",
    "        while A[j] > pivot\n",
    "        if i ≥ j then\n",
    "            return j\n",
    "        swap A[i] with A[j]</code>\n"
   ]
  },
  {
   "cell_type": "markdown",
   "id": "a0633f60",
   "metadata": {},
   "source": [
    "### Implementation in Python"
   ]
  },
  {
   "cell_type": "markdown",
   "id": "6eb688aa",
   "metadata": {},
   "source": [
    "#### Scratch code first"
   ]
  },
  {
   "cell_type": "code",
   "execution_count": 78,
   "id": "28beb60e",
   "metadata": {},
   "outputs": [],
   "source": [
    "\n",
    "import math\n",
    "\n",
    "def partition(arr, lo, hi):\n",
    "    med = math.floor((hi + lo) / 2)\n",
    "    pivot = arr[med]\n",
    "        \n",
    "    i = lo - 1\n",
    "    j = hi + 1\n",
    "        \n",
    "    while True:\n",
    "        while True:\n",
    "            i = i + 1\n",
    "            if not (arr[i] < pivot):\n",
    "                break\n",
    "                \n",
    "        while True:\n",
    "            j = j - 1\n",
    "            if not (arr[j] > pivot):\n",
    "                break\n",
    "                \n",
    "        if (i >= j):\n",
    "            return j\n",
    "        \n",
    "        tmp = arr[i]\n",
    "        arr[i] = arr[j]\n",
    "        arr[j] = tmp\n",
    "    \n",
    "def quicksort(arr, lo, hi):\n",
    "    if (lo < hi):\n",
    "        p = partition(arr, lo, hi)\n",
    "        quicksort(arr, lo, p)\n",
    "        quicksort(arr, p + 1, hi)\n",
    "        "
   ]
  },
  {
   "cell_type": "code",
   "execution_count": 79,
   "id": "d24b881d",
   "metadata": {},
   "outputs": [
    {
     "data": {
      "text/plain": [
       "[2, 4, 7, 9]"
      ]
     },
     "execution_count": 79,
     "metadata": {},
     "output_type": "execute_result"
    }
   ],
   "source": [
    "## sanity test\n",
    "arr = [4,9,7,2]\n",
    "quicksort(arr, 0, len(arr)-1)\n",
    "arr"
   ]
  },
  {
   "cell_type": "markdown",
   "id": "9eefa134",
   "metadata": {},
   "source": [
    "<a id=\"impl\"></a>\n",
    "\n",
    "### After Code Clean-up"
   ]
  },
  {
   "cell_type": "code",
   "execution_count": 83,
   "id": "1c084d61",
   "metadata": {},
   "outputs": [],
   "source": [
    "import math\n",
    "\n",
    "def partition(arr : list, lo : int, hi : int) -> int:\n",
    "    \"\"\"\n",
    "    Returns: int\n",
    "\n",
    "    Description: Partitions an input array such that all elements with values less than the pivot come before \n",
    "    the division, and all elements with values greater than the pivot come after it. returns the pivot value\n",
    "    \"\"\"\n",
    "    \n",
    "    if (not arr):\n",
    "        return 0\n",
    "    \n",
    "    med = math.floor((hi + lo) / 2)\n",
    "    pivot = arr[med]\n",
    "        \n",
    "    i = lo - 1\n",
    "    j = hi + 1\n",
    "    \n",
    "    # Loops through array updating two pointer indices\n",
    "    #   - i insures front of the array has values lower than pivot\n",
    "    #   - j insures back of the array has values higher than pivot\n",
    "    # Swaps elements if above condition doesn't hold\n",
    "    # Loops until i > j, or above condition holds for entire array\n",
    "    \n",
    "    while True:\n",
    "        while True:\n",
    "            i = i + 1\n",
    "            if not (arr[i] < pivot):\n",
    "                break\n",
    "                \n",
    "        while True:\n",
    "            j = j - 1\n",
    "            if not (arr[j] > pivot):\n",
    "                break\n",
    "                \n",
    "        if (i >= j):\n",
    "            return j\n",
    "        \n",
    "        tmp = arr[i]\n",
    "        arr[i] = arr[j]\n",
    "        arr[j] = tmp\n",
    "    \n",
    "def quicksort(arr : list, lo : int, hi : int) -> None:\n",
    "    \"\"\"\n",
    "    Returns: None\n",
    "\n",
    "    Description: Recursively applies quicksort to two partitions \n",
    "    of the array based on partition method\n",
    "    \"\"\"\n",
    "    \n",
    "    if (not arr):\n",
    "        return arr\n",
    "\n",
    "    if (lo < hi):\n",
    "        p = partition(arr, lo, hi)\n",
    "        quicksort(arr, lo, p)\n",
    "        quicksort(arr, p + 1, hi)\n",
    "        \n",
    "def sort(arr : list) -> list:\n",
    "    \"\"\"\n",
    "    Returns: list\n",
    "\n",
    "    Description: Sorts an array in increasing order based on its values. \n",
    "    \"\"\"\n",
    "    if (not(arr)):\n",
    "        return arr\n",
    "    \n",
    "    quicksort(arr, 0, len(arr)-1)\n",
    "    return arr"
   ]
  },
  {
   "cell_type": "code",
   "execution_count": 86,
   "id": "90c607e1",
   "metadata": {},
   "outputs": [
    {
     "data": {
      "text/plain": [
       "[1, 1, 2, 3]"
      ]
     },
     "execution_count": 86,
     "metadata": {},
     "output_type": "execute_result"
    }
   ],
   "source": [
    "## another sanity test\n",
    "sort([3,2,1,1])\n"
   ]
  },
  {
   "cell_type": "markdown",
   "id": "3b2d9730",
   "metadata": {},
   "source": [
    "<a id=\"tests\"></a>\n",
    "\n",
    "### Unit Tests"
   ]
  },
  {
   "cell_type": "code",
   "execution_count": 112,
   "id": "fa2cfc31",
   "metadata": {},
   "outputs": [
    {
     "name": "stderr",
     "output_type": "stream",
     "text": [
      "test_partition_basic (__main__.TestQuickSort) ... ok\n",
      "test_partition_edge (__main__.TestQuickSort) ... ok\n",
      "test_quicksort_sanity (__main__.TestQuickSort) ... ok\n",
      "test_sort_basic (__main__.TestQuickSort) ... ok\n",
      "test_sort_compare_sort (__main__.TestQuickSort) ... ok\n",
      "test_sort_edge (__main__.TestQuickSort) ... ok\n",
      "test_sort_random_shuffle (__main__.TestQuickSort) ... ok\n",
      "\n",
      "----------------------------------------------------------------------\n",
      "Ran 7 tests in 0.005s\n",
      "\n",
      "OK\n"
     ]
    },
    {
     "data": {
      "text/plain": [
       "<unittest.main.TestProgram at 0x7fa6372988e0>"
      ]
     },
     "execution_count": 112,
     "metadata": {},
     "output_type": "execute_result"
    }
   ],
   "source": [
    "import unittest\n",
    "import random\n",
    "\n",
    "class TestQuickSort(unittest.TestCase):\n",
    "    \n",
    "    def test_partition_basic(self):\n",
    "        self.assertEqual(partition([3,2,1], 0, 2), 1)\n",
    "        self.assertEqual(partition([3,2,1], 0, 1), 0)\n",
    "        self.assertEqual(partition([3,2,1], 1, 2), 1)\n",
    "\n",
    "    def test_partition_edge(self):\n",
    "        self.assertEqual(partition([], 0, 0), 0)\n",
    "        self.assertEqual(partition(None, 0, 1), 0)\n",
    "        \n",
    "    def test_quicksort_sanity(self):\n",
    "        self.assertEqual(quicksort([3,2,1], 0, 2), None)\n",
    "\n",
    "    def test_sort_basic(self):\n",
    "        self.assertEqual(sort([3,2,1]), [1,2,3])\n",
    "        self.assertEqual(sort(['b', 'a']), ['a', 'b'])\n",
    "        self.assertEqual(sort([1,1,1,1]), [1,1,1,1])\n",
    "        self.assertEqual(sort([1.4,1,1]), [1,1,1.4])\n",
    "        self.assertEqual(sort([-1,-2]), [-2,-1])\n",
    "\n",
    "    def test_sort_edge(self):\n",
    "        self.assertEqual(sort([]), [])\n",
    "        self.assertEqual(sort('a'), 'a')\n",
    "        self.assertEqual(sort(None), None)\n",
    "        self.assertEqual(sort(sort([1,2])), [1,2])\n",
    "\n",
    "    def test_sort_random_shuffle(self):\n",
    "        mylist = [1,2,3,4,4,5,6,7,8]\n",
    "        for x in range(20):\n",
    "            random.shuffle(mylist)\n",
    "            self.assertEqual(sort(mylist), [1,2,3,4,4,5,6,7,8])\n",
    "\n",
    "    def test_sort_compare_sort(self):\n",
    "        for x in range(20):\n",
    "            mylist = random.sample(range(0, 999999), 20)\n",
    "            mylist_old = mylist.copy()\n",
    "            self.assertEqual(sort(mylist), sorted(mylist_old))\n",
    "\n",
    "        \n",
    "unittest.main(argv=[''], verbosity=2, exit=False)"
   ]
  },
  {
   "cell_type": "markdown",
   "id": "bff9fb8b",
   "metadata": {},
   "source": [
    "## \n",
    "\n"
   ]
  },
  {
   "cell_type": "markdown",
   "id": "2b326c3e",
   "metadata": {},
   "source": [
    "<a id=\"disc\"></a>\n",
    "\n",
    "### Discussions"
   ]
  },
  {
   "cell_type": "markdown",
   "id": "0cdc62af",
   "metadata": {},
   "source": [
    "1. Pick one of quick sort or merge sort and implement it in a language of your choice.\n",
    "\n",
    "> Quicksort / python\n",
    "\n",
    "2. Provide some discussion of time and space complexity. Assume that the input is a list of positive integers.\n",
    "\n",
    "> Quicksort is a recursive sorting algorithm that performs better, on average, compared to selection or insertion sorts. The big O complexity is O(n log n) on average for time and O(n) for space. Although it can be O (n^2) in worst case scenarios.\n",
    "\n",
    "> Performance is dependently largely on the partition function, and two well known algorithms include Lomuto partition  and Hoare partition. The Lomuto is a little easier to understand, but Hoare is on average more performant. Hoare does a balanced partition and uses less swaps.\n",
    "\n",
    "> Being a recursive sort that partitions, quicksort lends itself to being parallizable over large datasets. Assuming a performant partition function, the partitions of the array can be parallelized per recursive call, which means its performance can be faster than O(n log n).\n",
    "\n",
    "3. Discuss foolproofing (or lack of it) for the inputs w.r.t. to the environment the code might be running in. Same with error handling.\n",
    "\n",
    "> In general, any sorting implementation should be able to handle any input, and at worst, fail gracefully. Strongly typed languages may have an advantage here since python could have an input like ('a', 1), which may cause unexpected behavior.\n",
    "\n",
    "> If mixed datasets could be a common occurence in the project, e.g. json objects, it will help to do some sanity checks to ensure the input array is of uniform type.\n",
    "\n",
    "> Edge cases, such as all non-array types in python including None should be used in unit tests to ensure that the sort either fails gracefully, produces a warning, and does not crash. \n",
    "\n",
    "> For a very basic implementation such as the one above, it would help to also check the size of the input and provide warnings or reject very large inputs since it's not a background task.\n",
    "\n",
    "> For most cases, we probably should wrap the inner workings of quicksort (partition/recursion functions) in a class so we only expose the absolute necessary method (sort). Although this depends on how it's used (whether other partition functions might be added, and whether we want to separate out the partition and recursion to be parallelized tasks).\n",
    "\n",
    "4. Feel free to use recursive or iterative variations with some discussion of what you would choose in a production setting and some discussion on how language choices affect this decision. And it would be nice if we could enter the territory of prebuilt implementations and their trade offs.\n",
    "\n",
    "> In a production setting, I would ballpark how the function would be used, what kind/size of input is used on average, and whether that input would change or scale up over time. \n",
    "\n",
    "> Based on those factors, I would determine whether a prebuilt solution (which is usually less buggy and fairly performant on small datasets), or a customized solution would be preferred. \n",
    "\n",
    "> A customized solution might be a very large dataset which would need distributed processing, or the ability to handle special input, perhaps the ability to compare different data types.\n",
    "\n",
    "5. Please do write interesting tests which can test over large, generated inputs.\n"
   ]
  },
  {
   "cell_type": "code",
   "execution_count": null,
   "id": "9bb54a2e",
   "metadata": {},
   "outputs": [],
   "source": []
  }
 ],
 "metadata": {
  "kernelspec": {
   "display_name": "Python 3",
   "language": "python",
   "name": "python3"
  },
  "language_info": {
   "codemirror_mode": {
    "name": "ipython",
    "version": 3
   },
   "file_extension": ".py",
   "mimetype": "text/x-python",
   "name": "python",
   "nbconvert_exporter": "python",
   "pygments_lexer": "ipython3",
   "version": "3.8.8"
  }
 },
 "nbformat": 4,
 "nbformat_minor": 5
}
